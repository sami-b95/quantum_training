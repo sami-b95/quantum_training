{
 "cells": [
  {
   "cell_type": "code",
   "execution_count": 1,
   "metadata": {},
   "outputs": [],
   "source": [
    "import numpy as np\n",
    "from qiskit.circuit import Gate\n",
    "from qiskit.circuit.library.standard_gates import CU1Gate, CXGate, HGate, MCXGate, RYGate, RZGate, SwapGate, XGate, ZGate\n",
    "from qiskit import Aer, ClassicalRegister, execute, QuantumCircuit, QuantumRegister\n",
    "from qiskit.visualization import plot_histogram\n",
    "from lib import QFTGate, GroverDiffusionGate, QPEGate"
   ]
  },
  {
   "cell_type": "markdown",
   "metadata": {},
   "source": [
    "# Introduction\n",
    "\n",
    "This notebook aims at giving a crash course on **Quantum Amplitude Estimation**, a fundamental quantum algorithm which is the jacknife of many interesting calculations in finance. We will introduce this algorithm in a bottom-up approach, starting from the **Quantum Fourier Transformation**, the **Quantum Phase Estimation**, then detouring by **Grover's algorithm**, before applying all that to **Quantum Amplitude Estimation**.\n",
    "\n",
    "This presentation does not aim at giving all technical details but rather at conveying a feeling of how these basic building blocks fit together."
   ]
  },
  {
   "cell_type": "markdown",
   "metadata": {},
   "source": [
    "# Demos"
   ]
  },
  {
   "cell_type": "markdown",
   "metadata": {},
   "source": [
    "## Quantum Fourier Transformation\n",
    "\n",
    "### Background\n",
    "\n",
    "The **Quantum Fourier Tranformation** (QFT) implements the following operation on the computational basis (the quantum register having $n$ bits):\n",
    "$$|k\\rangle \\longmapsto \\frac{1}{\\sqrt{2^n}}\\sum_{0 \\leq l < 2^n}\\exp\\left(-\\frac{2\\pi ikl}{2^n}\\right)|l\\rangle$$\n",
    "It is the quantum analogue of the Discrete Fourier Transform, well-known in signal processing.\n",
    "\n",
    "In this section, we demonstrate how the QFT can be used to create add a unit to the value of a quantum register, that is, to perform the mapping\n",
    "$$|k\\rangle \\longmapsto |k + 1\\rangle$$\n",
    "in the computational basis.\n",
    "The circuit acts on an $n$-qubits register. We will carry the following steps:\n",
    "- __Step 1__. Load the value $|k\\rangle$ into the register, initially at $|0\\rangle$, using a series of $X$ (bit flip) gates. At the end of this step, the register is the state\n",
    "$$|\\psi_1\\rangle = |k\\rangle$$\n",
    "\n",
    "- __Step 2__. Apply the QFT to the register. This will take the register to the state:\n",
    "$$|\\psi_2\\rangle = \\frac{1}{\\sqrt{2^n}}\\sum_{0 \\leq l < 2^n}\\exp\\left(-\\frac{2\\pi kl}{2^n}\\right)|l\\rangle$$\n",
    "\n",
    "- __Step 3__. Perform a series of single-qubit, $Z$-rotations, acting independently on the qubits and implementing the mapping:\n",
    "$$|k\\rangle \\longmapsto \\exp\\left(-\\frac{2\\pi ik}{2^n}\\right)|k\\rangle$$\n",
    "This will take the state to\n",
    "$$|\\psi_3\\rangle = \\frac{1}{\\sqrt{2^n}}\\sum_{0 \\leq l < 2^n}\\exp\\left(-\\frac{2\\pi i(k + 1)l}{2^n}\\right)|l\\rangle$$\n",
    "\n",
    "- __Step 4__. Perform an inverse Fourier transform. This will take the state to:\n",
    "$$|\\psi_4\\rangle = |k + 1\\rangle$$\n",
    "\n",
    "### Our example\n",
    "\n",
    "We illustrate this construction on a quantum register of 4 qubits, containing the value $9_{10} = 1001_2$, which will then be incremented to $10_{10} = 1010_2$ by the algorithm."
   ]
  },
  {
   "cell_type": "markdown",
   "metadata": {},
   "source": [
    "#### Step 1: construct a quantum circuit loading $9_{10} = 1001_2$ in a 4-qubit register."
   ]
  },
  {
   "cell_type": "markdown",
   "metadata": {},
   "source": [
    "Implement circuit"
   ]
  },
  {
   "cell_type": "code",
   "execution_count": 2,
   "metadata": {
    "scrolled": false
   },
   "outputs": [
    {
     "data": {
      "text/plain": [
       "<qiskit.circuit.instructionset.InstructionSet at 0x7febcc48d6d0>"
      ]
     },
     "execution_count": 2,
     "metadata": {},
     "output_type": "execute_result"
    }
   ],
   "source": [
    "qr, cr = QuantumRegister(4), ClassicalRegister(4)\n",
    "qc1 = QuantumCircuit(qr, cr)\n",
    "qc1.x(qr[0])\n",
    "qc1.x(qr[3])"
   ]
  },
  {
   "cell_type": "markdown",
   "metadata": {},
   "source": [
    "Measure circuit"
   ]
  },
  {
   "cell_type": "code",
   "execution_count": 3,
   "metadata": {},
   "outputs": [
    {
     "data": {
      "text/plain": [
       "<qiskit.circuit.instructionset.InstructionSet at 0x7febcc4a3050>"
      ]
     },
     "execution_count": 3,
     "metadata": {},
     "output_type": "execute_result"
    }
   ],
   "source": [
    "qc = QuantumCircuit(qr, cr)\n",
    "qc += qc1\n",
    "qc.measure(qr, cr)"
   ]
  },
  {
   "cell_type": "code",
   "execution_count": 4,
   "metadata": {},
   "outputs": [],
   "source": [
    "counts = execute(qc, backend=Aer.get_backend(\"qasm_simulator\")).result().get_counts()"
   ]
  },
  {
   "cell_type": "code",
   "execution_count": 5,
   "metadata": {},
   "outputs": [
    {
     "data": {
      "image/png": "[encoded data removed]",
      "text/plain": [
       "<Figure size 504x360 with 1 Axes>"
      ]
     },
     "execution_count": 5,
     "metadata": {},
     "output_type": "execute_result"
    }
   ],
   "source": [
    "plot_histogram(counts)"
   ]
  },
  {
   "cell_type": "markdown",
   "metadata": {},
   "source": [
    "#### Step 2: append a QFT circuit to it."
   ]
  },
  {
   "cell_type": "markdown",
   "metadata": {},
   "source": [
    "Implement circuit"
   ]
  },
  {
   "cell_type": "code",
   "execution_count": 6,
   "metadata": {},
   "outputs": [
    {
     "data": {
      "text/plain": [
       "<qiskit.circuit.instructionset.InstructionSet at 0x7febcc17d090>"
      ]
     },
     "execution_count": 6,
     "metadata": {},
     "output_type": "execute_result"
    }
   ],
   "source": [
    "qc2 = QuantumCircuit(qr, cr)\n",
    "qc2.append(QFTGate(4), qr)"
   ]
  },
  {
   "cell_type": "markdown",
   "metadata": {},
   "source": [
    "Measure circuit"
   ]
  },
  {
   "cell_type": "code",
   "execution_count": 7,
   "metadata": {},
   "outputs": [
    {
     "data": {
      "text/plain": [
       "<qiskit.circuit.instructionset.InstructionSet at 0x7febcc18f0d0>"
      ]
     },
     "execution_count": 7,
     "metadata": {},
     "output_type": "execute_result"
    }
   ],
   "source": [
    "qc = QuantumCircuit(qr, cr)\n",
    "qc = qc1 + qc2\n",
    "qc.measure(qr, cr)"
   ]
  },
  {
   "cell_type": "code",
   "execution_count": 8,
   "metadata": {},
   "outputs": [],
   "source": [
    "counts = execute(qc, backend=Aer.get_backend(\"qasm_simulator\"), shots=8192).result().get_counts()"
   ]
  },
  {
   "cell_type": "code",
   "execution_count": 9,
   "metadata": {},
   "outputs": [
    {
     "data": {
      "image/png": "[encoded data removed]",
      "text/plain": [
       "<Figure size 504x360 with 1 Axes>"
      ]
     },
     "execution_count": 9,
     "metadata": {},
     "output_type": "execute_result"
    }
   ],
   "source": [
    "plot_histogram(counts)"
   ]
  },
  {
   "cell_type": "markdown",
   "metadata": {},
   "source": [
    "#### Step 3: Apply a phase to the qubits and perform an inverse QFT.\n",
    "\n",
    "First, we apply the unitary defined on the computational basis by\n",
    "$$U|k\\rangle := \\exp\\left(-\\frac{2\\pi ik}{2^n}\\right)|k\\rangle$$\n",
    "\n",
    "Following this step, the state will be\n",
    "$$\\frac{1}{4}\\sum_{0 \\leq k < 16}\\exp\\left(-\\frac{2\\pi ik}{16}\\right)\\exp\\left(-\\frac{2\\pi ik}{16}9\\right)|k\\rangle = \\frac{1}{4}\\sum_{0 \\leq k < 16}\\exp\\left(-\\frac{2\\pi ik}{16}10\\right)|k\\rangle$$"
   ]
  },
  {
   "cell_type": "code",
   "execution_count": 10,
   "metadata": {},
   "outputs": [],
   "source": [
    "qc3 = QuantumCircuit(qr, cr)\n",
    "for qubit_index in range(4):\n",
    "    qc3.rz((2 * np.pi / 2 ** 4) * 2 ** qubit_index, qr[qubit_index])"
   ]
  },
  {
   "cell_type": "code",
   "execution_count": 11,
   "metadata": {},
   "outputs": [
    {
     "data": {
      "text/plain": [
       "<qiskit.circuit.instructionset.InstructionSet at 0x7fec241c97d0>"
      ]
     },
     "execution_count": 11,
     "metadata": {},
     "output_type": "execute_result"
    }
   ],
   "source": [
    "qc = QuantumCircuit(qr, cr)\n",
    "qc = qc1 + qc2 + qc3\n",
    "qc.measure(qr, cr)"
   ]
  },
  {
   "cell_type": "code",
   "execution_count": 12,
   "metadata": {},
   "outputs": [],
   "source": [
    "counts = execute(qc, backend=Aer.get_backend(\"qasm_simulator\"), shots=8192).result().get_counts()"
   ]
  },
  {
   "cell_type": "code",
   "execution_count": 13,
   "metadata": {},
   "outputs": [
    {
     "data": {
      "image/png": "[encoded data removed]",
      "text/plain": [
       "<Figure size 504x360 with 1 Axes>"
      ]
     },
     "execution_count": 13,
     "metadata": {},
     "output_type": "execute_result"
    }
   ],
   "source": [
    "plot_histogram(counts)"
   ]
  },
  {
   "cell_type": "markdown",
   "metadata": {},
   "source": [
    "#### Step 4: apply an inverse QFT.\n",
    "\n",
    "We apply an inverse Quantum Fourier Transformation. This will bring the state to\n",
    "$$|10_{10}\\rangle = |1010_2\\rangle$$"
   ]
  },
  {
   "cell_type": "code",
   "execution_count": 14,
   "metadata": {},
   "outputs": [
    {
     "data": {
      "text/plain": [
       "<qiskit.circuit.instructionset.InstructionSet at 0x7febc7d51610>"
      ]
     },
     "execution_count": 14,
     "metadata": {},
     "output_type": "execute_result"
    }
   ],
   "source": [
    "qc4 = QuantumCircuit(qr, cr)\n",
    "qc4.append(QFTGate(4).inverse(), qr[:])"
   ]
  },
  {
   "cell_type": "code",
   "execution_count": 15,
   "metadata": {},
   "outputs": [
    {
     "data": {
      "text/plain": [
       "<qiskit.circuit.instructionset.InstructionSet at 0x7febc7d5f710>"
      ]
     },
     "execution_count": 15,
     "metadata": {},
     "output_type": "execute_result"
    }
   ],
   "source": [
    "qc = QuantumCircuit(qr, cr)\n",
    "qc = qc1 + qc2 + qc3 + qc4\n",
    "qc.measure(qr, cr)"
   ]
  },
  {
   "cell_type": "code",
   "execution_count": 16,
   "metadata": {},
   "outputs": [],
   "source": [
    "counts = execute(qc, backend=Aer.get_backend(\"qasm_simulator\"), shots=8192).result().get_counts()"
   ]
  },
  {
   "cell_type": "code",
   "execution_count": 17,
   "metadata": {},
   "outputs": [
    {
     "data": {
      "image/png": "[encoded data removed]",
      "text/plain": [
       "<Figure size 504x360 with 1 Axes>"
      ]
     },
     "execution_count": 17,
     "metadata": {},
     "output_type": "execute_result"
    }
   ],
   "source": [
    "plot_histogram(counts)"
   ]
  },
  {
   "cell_type": "markdown",
   "metadata": {},
   "source": [
    "## Quantum Phase Estimation"
   ]
  },
  {
   "cell_type": "markdown",
   "metadata": {},
   "source": [
    "### Background\n",
    "\n",
    "Given a quantum statevector $|\\psi\\rangle$ which is an eigenvector of some unitary $U$:\n",
    "$$U|\\psi\\rangle = e^{i\\varphi}|\\psi\\rangle$$\n",
    "the **Quantum Phase Estimation** algorithm allows to estimate $\\varphi$ given the access to a quantum circuit implementing $U$ (precisely, controlled-$U$).\n",
    "\n",
    "The main idea behind the algorithm is that given access to such a circuit, one can systematically (i.e, treating $U$ as a black box) prepare the state:\n",
    "\\begin{align}\n",
    "    \\frac{1}{\\sqrt{2^{n_{\\textrm{phase}}}}}\\sum_{0 \\leq k < 2^{n_{\\textrm{phase}}}}|k\\rangle\\left(U^k|\\psi\\rangle\\right) & = \\frac{1}{\\sqrt{2^{n_{\\textrm{phase}}}}}\\sum_{0 \\leq k < 2^{n_{\\textrm{phase}}}}e^{ik\\varphi}|k\\rangle|\\psi\\rangle,\n",
    "\\end{align}\n",
    "where the register containing $k$ in the sum is an $n_{\\textrm{phase}}$-qubit register (the notation suggesting that one uses $n_{\\textrm{phase}}$ qubits to estimate the phase). The coefficients of the state above are exponentials oscillating with some frequency $\\varphi$ -the \"phase\" to be estimated. This suggests to take the inverse Quantum Fourier Transformation to recover this phase and is indeed what the Quantum Phase Estimation Algorithm does.\n",
    "\n",
    "### Our example\n",
    "\n",
    "Our example applies Quantum Phase Estimation to the state $|\\psi\\rangle := |1\\rangle$ and the unitary operator $U := \\hat{R}_z(2\\theta)$ (qubit $Z$ rotation of angle $2\\theta$); the associated eigenvalue is $e^{i\\theta}$, corresponding to phase $\\theta$."
   ]
  },
  {
   "cell_type": "markdown",
   "metadata": {},
   "source": [
    "#### Parameters"
   ]
  },
  {
   "cell_type": "code",
   "execution_count": 18,
   "metadata": {},
   "outputs": [],
   "source": [
    "theta = 0.43 # The desired phase theta\n",
    "num_phase_qubits = 4 # The number of qubits in which to encode the phase"
   ]
  },
  {
   "cell_type": "markdown",
   "metadata": {},
   "source": [
    "#### Declare registers"
   ]
  },
  {
   "cell_type": "code",
   "execution_count": 19,
   "metadata": {},
   "outputs": [],
   "source": [
    "phase_qr = QuantumRegister(num_phase_qubits)\n",
    "state_qr = QuantumRegister(1)\n",
    "phase_cr = ClassicalRegister(num_phase_qubits)"
   ]
  },
  {
   "cell_type": "markdown",
   "metadata": {},
   "source": [
    "#### Construct the preparing building the state to be estimated"
   ]
  },
  {
   "cell_type": "code",
   "execution_count": 20,
   "metadata": {},
   "outputs": [
    {
     "data": {
      "text/plain": [
       "<qiskit.circuit.instructionset.InstructionSet at 0x7febc7cbd710>"
      ]
     },
     "execution_count": 20,
     "metadata": {},
     "output_type": "execute_result"
    }
   ],
   "source": [
    "state_preparation_qc = QuantumCircuit(state_qr)\n",
    "state_preparation_qc.x(state_qr[0])"
   ]
  },
  {
   "cell_type": "markdown",
   "metadata": {},
   "source": [
    "#### Construct the unitary operator whose phase to estimate"
   ]
  },
  {
   "cell_type": "code",
   "execution_count": 21,
   "metadata": {},
   "outputs": [],
   "source": [
    "unitary = RZGate(2 * theta)"
   ]
  },
  {
   "cell_type": "markdown",
   "metadata": {},
   "source": [
    "#### Run Quantum Phase Estimation and interpret the result"
   ]
  },
  {
   "cell_type": "code",
   "execution_count": 22,
   "metadata": {},
   "outputs": [
    {
     "data": {
      "text/plain": [
       "<qiskit.circuit.instructionset.InstructionSet at 0x7febcc196e90>"
      ]
     },
     "execution_count": 22,
     "metadata": {},
     "output_type": "execute_result"
    }
   ],
   "source": [
    "qc = QuantumCircuit(phase_qr, state_qr, phase_cr)\n",
    "qc += state_preparation_qc\n",
    "qc.append(QPEGate(num_phase_qubits=num_phase_qubits, unitary_gate=unitary), phase_qr[:] + state_qr[:])\n",
    "qc.measure(phase_qr, phase_cr)"
   ]
  },
  {
   "cell_type": "code",
   "execution_count": 23,
   "metadata": {},
   "outputs": [],
   "source": [
    "counts = execute(qc, backend=Aer.get_backend(\"qasm_simulator\"), shots=8192).result().get_counts()"
   ]
  },
  {
   "cell_type": "code",
   "execution_count": 24,
   "metadata": {},
   "outputs": [
    {
     "data": {
      "image/png": "[encoded data removed]",
      "text/plain": [
       "<Figure size 504x360 with 1 Axes>"
      ]
     },
     "execution_count": 24,
     "metadata": {},
     "output_type": "execute_result"
    }
   ],
   "source": [
    "plot_histogram(counts)"
   ]
  },
  {
   "cell_type": "code",
   "execution_count": 25,
   "metadata": {},
   "outputs": [
    {
     "name": "stdout",
     "output_type": "stream",
     "text": [
      "Estimated phase: 0001 -> 0.39269908169872414\n"
     ]
    }
   ],
   "source": [
    "argmax_count = max(counts, key=counts.get)\n",
    "print(f\"Estimated phase: {argmax_count} -> {2.0 * np.pi * int(argmax_count, base=2) / 2 ** num_phase_qubits}\")"
   ]
  },
  {
   "cell_type": "markdown",
   "metadata": {},
   "source": [
    "## Grover diffusion operator"
   ]
  },
  {
   "cell_type": "markdown",
   "metadata": {},
   "source": [
    "### Background\n",
    "\n",
    "Let be given a state $|\\psi\\rangle$ on $n$ qubits prepared by some algorithm $\\mathcal{A}$:\n",
    "$$|\\psi\\rangle := \\mathcal{A}|0^{\\otimes n}\\rangle$$\n",
    "Suppose that this state is an orthogonal combination of a \"good\" and \"bad\" part:\n",
    "\\begin{align}\n",
    "    |\\psi\\rangle & = |\\psi_{\\textrm{good}}\\rangle + |\\psi_{\\textrm{bad}}\\rangle\\\\\n",
    "    \\langle\\psi_{\\textrm{good}}|\\psi_{\\textrm{bad}}\\rangle & = 0\\\\\n",
    "    \\lVert|\\psi_{\\textrm{good}}\\rangle\\rVert^2 & = p\\\\\n",
    "    \\lVert|\\psi_{\\textrm{bad}}\\rangle\\rVert^2 & = 1 - p\n",
    "\\end{align}\n",
    "One would like to get only the good part, i.e to obtain $\\frac{|\\psi_{\\textrm{good}}\\rangle}{\\lVert|\\psi_{\\textrm{good}}\\rangle\\rVert}$.\n",
    "\n",
    "In the orthonormal basis $\\left\\{\\frac{|\\psi_{\\textrm{good}}\\rangle}{\\lVert \\psi_{\\textrm{good}} \\rVert}, \\frac{|\\psi_{\\textrm{bad}}\\rangle}{\\lVert \\psi_{\\textrm{bad}} \\rVert}\\right\\}$, the matrix of the Grover diffusion operator is:\n",
    "\\begin{align}\n",
    "    \\textrm{GroverDiffusion} & = \\begin{pmatrix}\n",
    "        \\cos\\theta & \\sin\\theta\\\\\n",
    "        -\\sin\\theta & \\cos\\theta\n",
    "    \\end{pmatrix}\\\\\n",
    "    \\sin^2\\frac{\\theta}{2} & := p\n",
    "\\end{align}\n",
    "This is a simple rotation matrix in the plane; the angle depends on the probability of the good state $p$.\n",
    "\n",
    "One can then apply this rotation to $|\\psi\\rangle := |\\psi_{\\textrm{good}}\\rangle + |\\psi_{\\textrm{bad}}\\rangle$ a certain number of times to rotate it to something close $\\frac{|\\psi_{\\textrm{good}}\\rangle}{\\lVert|\\psi_{\\textrm{good}}\\rangle\\rVert}$.\n",
    "\n",
    "### Our example\n",
    "\n",
    "In our example, the algorithm will prepare a state on 4 qubits; the good and bad states will be distinguished by the of their rightmost qubit (index 0). Precisely:\n",
    "\\begin{align}\n",
    "    |\\psi\\rangle & = \\sqrt{p}|010\\rangle|1\\rangle + \\sqrt{1 - p}|100\\rangle|0\\rangle\\\\\n",
    "    |\\psi_{\\textrm{good}}\\rangle & = \\sqrt{p}|010\\rangle|1\\rangle\\\\\n",
    "    |\\psi_{\\textrm{bad}}\\rangle & = \\sqrt{1 - p}|100\\rangle|0\\rangle \n",
    "\\end{align}\n",
    "\n",
    "To construct the Grover diffusion operator with the dedicated class, we need to specify an operator $\\mathcal{A}$ which prepares $|\\psi\\rangle$ from $|0000\\rangle$:\n",
    "\\begin{align}\n",
    "    \\mathcal{A}|0000\\rangle & = \\sqrt{p}|010\\rangle|1\\rangle + \\sqrt{1 - p}|100\\rangle|0\\rangle\n",
    "\\end{align}\n",
    "\n",
    "Applying the Grover operator repeatedly, we will amplify the \"good\" state part \\sqrt{p}|010\\rangle|1\\rangle"
   ]
  },
  {
   "cell_type": "markdown",
   "metadata": {},
   "source": [
    "#### Parameters"
   ]
  },
  {
   "cell_type": "code",
   "execution_count": 26,
   "metadata": {},
   "outputs": [],
   "source": [
    "p = 0.05"
   ]
  },
  {
   "cell_type": "markdown",
   "metadata": {},
   "source": [
    "#### Declare the qubits"
   ]
  },
  {
   "cell_type": "code",
   "execution_count": 27,
   "metadata": {},
   "outputs": [],
   "source": [
    "state_qr = QuantumRegister(3)\n",
    "good_bad_qr = QuantumRegister(1)\n",
    "auxiliary_qr = QuantumRegister(1)\n",
    "state_cr = ClassicalRegister(3)\n",
    "good_bad_cr = ClassicalRegister(1)"
   ]
  },
  {
   "cell_type": "markdown",
   "metadata": {},
   "source": [
    "#### Construct the state preparation circuit (as a Qiskit `Gate` object)"
   ]
  },
  {
   "cell_type": "code",
   "execution_count": 28,
   "metadata": {},
   "outputs": [],
   "source": [
    "class StatePreparationGate(Gate):\n",
    "    def __init__(self, label=None):\n",
    "        super().__init__(name=\"StatePreparationGate\", num_qubits=4, label=label, params=[])\n",
    "\n",
    "    def _define(self):\n",
    "        qr = QuantumRegister(4)\n",
    "        definition = [\n",
    "            (RYGate(np.arcsin(2 * np.sqrt(p))), [qr[0]], []),\n",
    "            (CXGate(), [qr[0], qr[2]], []),\n",
    "            (XGate(), [qr[0]], []),\n",
    "            (CXGate(), [qr[0], qr[3]], []),\n",
    "            (XGate(), [qr[0]], [])\n",
    "        ]\n",
    "        self.definition = definition"
   ]
  },
  {
   "cell_type": "code",
   "execution_count": 29,
   "metadata": {},
   "outputs": [
    {
     "data": {
      "text/plain": [
       "<qiskit.circuit.instructionset.InstructionSet at 0x7febcc196e10>"
      ]
     },
     "execution_count": 29,
     "metadata": {},
     "output_type": "execute_result"
    }
   ],
   "source": [
    "qc = QuantumCircuit(state_qr, good_bad_qr, good_bad_cr, state_cr)\n",
    "qc.append(StatePreparationGate(), good_bad_qr[:] + state_qr[:])\n",
    "qc.measure(good_bad_qr, good_bad_cr)\n",
    "qc.measure(state_qr, state_cr)"
   ]
  },
  {
   "cell_type": "code",
   "execution_count": 30,
   "metadata": {},
   "outputs": [],
   "source": [
    "counts = execute(qc, backend=Aer.get_backend(\"qasm_simulator\"), shots=8192).result().get_counts()"
   ]
  },
  {
   "cell_type": "code",
   "execution_count": 31,
   "metadata": {},
   "outputs": [
    {
     "data": {
      "image/png": "[encoded data removed]",
      "text/plain": [
       "<Figure size 504x360 with 1 Axes>"
      ]
     },
     "execution_count": 31,
     "metadata": {},
     "output_type": "execute_result"
    }
   ],
   "source": [
    "plot_histogram(counts)"
   ]
  },
  {
   "cell_type": "markdown",
   "metadata": {},
   "source": [
    "#### Construct the Grover diffusion operator from the algorithm circuit"
   ]
  },
  {
   "cell_type": "code",
   "execution_count": 32,
   "metadata": {},
   "outputs": [
    {
     "data": {
      "text/plain": [
       "<qiskit.circuit.instructionset.InstructionSet at 0x7febc7be4790>"
      ]
     },
     "execution_count": 32,
     "metadata": {},
     "output_type": "execute_result"
    }
   ],
   "source": [
    "grover_qc = QuantumCircuit(good_bad_qr, state_qr, auxiliary_qr)\n",
    "grover_gate = GroverDiffusionGate(\n",
    "    num_qubits=4,\n",
    "    quantum_algorithm=StatePreparationGate(),\n",
    "    classical_boolean_oracle=[0, 1],\n",
    "    oracle_qubits=[0]\n",
    ")\n",
    "grover_qc.append(grover_gate, good_bad_qr[:] + state_qr[:] + auxiliary_qr[:])"
   ]
  },
  {
   "cell_type": "markdown",
   "metadata": {},
   "source": [
    "#### Apply the algorithm circuit, followed by the Grover diffusion circuit a certain number of times"
   ]
  },
  {
   "cell_type": "markdown",
   "metadata": {},
   "source": [
    "Number of Grover iterations"
   ]
  },
  {
   "cell_type": "code",
   "execution_count": 33,
   "metadata": {},
   "outputs": [],
   "source": [
    "n_grover = 2"
   ]
  },
  {
   "cell_type": "markdown",
   "metadata": {},
   "source": [
    "Circuit construction"
   ]
  },
  {
   "cell_type": "code",
   "execution_count": 34,
   "metadata": {},
   "outputs": [
    {
     "data": {
      "text/plain": [
       "<qiskit.circuit.instructionset.InstructionSet at 0x7febc7c204d0>"
      ]
     },
     "execution_count": 34,
     "metadata": {},
     "output_type": "execute_result"
    }
   ],
   "source": [
    "qc = QuantumCircuit(good_bad_qr, state_qr, good_bad_cr, state_cr)\n",
    "qc.append(StatePreparationGate(), good_bad_qr[:] + state_qr[:])\n",
    "for _ in range(n_grover):\n",
    "    qc += grover_qc\n",
    "qc.measure(good_bad_qr, good_bad_cr)\n",
    "qc.measure(state_qr, state_cr)"
   ]
  },
  {
   "cell_type": "markdown",
   "metadata": {},
   "source": [
    "Quantum register measurement"
   ]
  },
  {
   "cell_type": "code",
   "execution_count": 35,
   "metadata": {
    "scrolled": true
   },
   "outputs": [],
   "source": [
    "counts = execute(qc, backend=Aer.get_backend(\"qasm_simulator\"), shots=8192).result().get_counts()"
   ]
  },
  {
   "cell_type": "code",
   "execution_count": 36,
   "metadata": {
    "scrolled": true
   },
   "outputs": [
    {
     "data": {
      "image/png": "[encoded data removed]",
      "text/plain": [
       "<Figure size 504x360 with 1 Axes>"
      ]
     },
     "execution_count": 36,
     "metadata": {},
     "output_type": "execute_result"
    }
   ],
   "source": [
    "plot_histogram(counts)"
   ]
  },
  {
   "cell_type": "markdown",
   "metadata": {},
   "source": [
    "## Quantum Amplitude Estimation"
   ]
  },
  {
   "cell_type": "markdown",
   "metadata": {},
   "source": [
    "### Background\n",
    "\n",
    "The **Quantum Amplitude Estimation** Algorithm is merely Quantum Phase Estimation applied to the \"Grover state\" as prepared state:\n",
    "$$|\\psi\\rangle := |\\psi_{\\textrm{good}}\\rangle + |\\psi_{\\textrm{bad}}\\rangle$$\n",
    "and the Grover diffusion operator as unitary operator. It aims at estimating $p := \\lVert|\\psi_{\\textrm{good}}\\rangle\\rVert^2$, the \"probability of the good state\".\n",
    "\n",
    "Recall that in the 2D subspace spanned by $|\\psi_{\\textrm{good}}\\rangle, |\\psi_{\\textrm{bad}}\\rangle$, the matrix of this operator looks like a 2D rotation\n",
    "$$\n",
    "\\begin{pmatrix}\n",
    "\\cos\\theta & \\sin\\theta\\\\\n",
    "-\\sin\\theta & \\cos\\theta\n",
    "\\end{pmatrix},\n",
    "$$\n",
    "where\n",
    "$$\\sin^2\\frac{\\theta}{2} = p$$\n",
    "Such a matrix has 2 eigenvalues $e^{\\pm i\\theta}$. Therefore, running the Quantum Phase Estimation Algorithm with the Grover state and Grover diffusion operator allows to estimate $\\theta$, hence $p$.\n",
    "\n",
    "### Our example\n",
    "\n",
    "To illustrate that, let us come back to our toy Grover state on 4 qubits:\n",
    "\\begin{align}\n",
    "    |\\psi\\rangle & = \\sqrt{p}|010\\rangle|1\\rangle + \\sqrt{1 - p}|100\\rangle|0\\rangle\\\\\n",
    "    |\\psi_{\\textrm{good}}\\rangle & = \\sqrt{p}|010\\rangle|1\\rangle\\\\\n",
    "    |\\psi_{\\textrm{bad}}\\rangle & = \\sqrt{1 - p}|100\\rangle|0\\rangle \n",
    "\\end{align}\n",
    "\n",
    "We will implement (again) the circuit constructing this state. Then, we will call Quantum Phase Estimation with this circuit as preparation circuit and the Grover diffusion operator as unitary operator."
   ]
  },
  {
   "cell_type": "markdown",
   "metadata": {},
   "source": [
    "#### Parameters"
   ]
  },
  {
   "cell_type": "code",
   "execution_count": 37,
   "metadata": {},
   "outputs": [],
   "source": [
    "p = 0.27 # The probability of the good state\n",
    "num_phase_qubits = 6 # The number of qubits in which to encode the phase"
   ]
  },
  {
   "cell_type": "markdown",
   "metadata": {},
   "source": [
    "#### Declare registers"
   ]
  },
  {
   "cell_type": "code",
   "execution_count": 38,
   "metadata": {},
   "outputs": [],
   "source": [
    "phase_qr = QuantumRegister(num_phase_qubits)\n",
    "state_qr = QuantumRegister(3)\n",
    "good_bad_qr = QuantumRegister(1)\n",
    "auxiliary_qr = QuantumRegister(1)\n",
    "phase_cr = ClassicalRegister(num_phase_qubits)"
   ]
  },
  {
   "cell_type": "markdown",
   "metadata": {},
   "source": [
    "#### Construct the state preparation circuit (as a Qiskit `Gate` object)"
   ]
  },
  {
   "cell_type": "code",
   "execution_count": 39,
   "metadata": {},
   "outputs": [],
   "source": [
    "class StatePreparationGate(Gate):\n",
    "    def __init__(self, label=None):\n",
    "        super().__init__(name=\"StatePreparationGate\", num_qubits=4, label=label, params=[])\n",
    "\n",
    "    def _define(self):\n",
    "        qr = QuantumRegister(4)\n",
    "        definition = [\n",
    "            (RYGate(2 * np.arcsin(np.sqrt(p))), [qr[0]], []),\n",
    "            (CXGate(), [qr[0], qr[2]], []),\n",
    "            (XGate(), [qr[0]], []),\n",
    "            (CXGate(), [qr[0], qr[3]], []),\n",
    "            (XGate(), [qr[0]], [])\n",
    "        ]\n",
    "        self.definition = definition"
   ]
  },
  {
   "cell_type": "markdown",
   "metadata": {},
   "source": [
    "#### Define the unitary operator on which to perform Quantum Phase Estimation (now, it is the Grover diffusion operator)"
   ]
  },
  {
   "cell_type": "code",
   "execution_count": 40,
   "metadata": {},
   "outputs": [],
   "source": [
    "qpe_unitary = GroverDiffusionGate(\n",
    "    num_qubits=4,\n",
    "    quantum_algorithm=StatePreparationGate(),\n",
    "    classical_boolean_oracle=[0, 1],\n",
    "    oracle_qubits=[0]\n",
    ")"
   ]
  },
  {
   "cell_type": "markdown",
   "metadata": {},
   "source": [
    "#### Run Quantum Phase Estimation and interpret the result"
   ]
  },
  {
   "cell_type": "code",
   "execution_count": 41,
   "metadata": {},
   "outputs": [
    {
     "data": {
      "text/plain": [
       "<qiskit.circuit.instructionset.InstructionSet at 0x7febc7b67b10>"
      ]
     },
     "execution_count": 41,
     "metadata": {},
     "output_type": "execute_result"
    }
   ],
   "source": [
    "qc = QuantumCircuit(phase_qr, good_bad_qr, state_qr, auxiliary_qr, phase_cr)\n",
    "qc.append(StatePreparationGate(), good_bad_qr[:] + state_qr[:])\n",
    "qc.append(QPEGate(num_phase_qubits=num_phase_qubits, unitary_gate=qpe_unitary), phase_qr[:] + good_bad_qr[:] + state_qr[:] + auxiliary_qr[:])\n",
    "qc.measure(phase_qr, phase_cr)"
   ]
  },
  {
   "cell_type": "code",
   "execution_count": 42,
   "metadata": {},
   "outputs": [],
   "source": [
    "counts = execute(qc, backend=Aer.get_backend(\"qasm_simulator\"), shots=8192).result().get_counts()"
   ]
  },
  {
   "cell_type": "code",
   "execution_count": 43,
   "metadata": {},
   "outputs": [
    {
     "data": {
      "image/png": "[encoded data removed]",
      "text/plain": [
       "<Figure size 504x360 with 1 Axes>"
      ]
     },
     "execution_count": 43,
     "metadata": {},
     "output_type": "execute_result"
    }
   ],
   "source": [
    "plot_histogram(counts)"
   ]
  },
  {
   "cell_type": "code",
   "execution_count": 44,
   "metadata": {},
   "outputs": [
    {
     "name": "stdout",
     "output_type": "stream",
     "text": [
      "Estimated phase: 010101 -> 2.061670178918302\n",
      "Corresponding probability: 0.26430163158700104\n"
     ]
    }
   ],
   "source": [
    "argmax_count = max(counts, key=counts.get)\n",
    "estimated_phase = 2.0 * np.pi * int(argmax_count, base=2) / 2 ** num_phase_qubits\n",
    "print(f\"Estimated phase: {argmax_count} -> {estimated_phase}\")\n",
    "print(f\"Corresponding probability: {1 - np.sin(estimated_phase / 2) ** 2}\")"
   ]
  }
 ],
 "metadata": {
  "kernelspec": {
   "display_name": "Python 3",
   "language": "python",
   "name": "python3"
  },
  "language_info": {
   "codemirror_mode": {
    "name": "ipython",
    "version": 3
   },
   "file_extension": ".py",
   "mimetype": "text/x-python",
   "name": "python",
   "nbconvert_exporter": "python",
   "pygments_lexer": "ipython3",
   "version": "3.7.5"
  }
 },
 "nbformat": 4,
 "nbformat_minor": 2
}
